{
  "cells": [
    {
      "cell_type": "markdown",
      "metadata": {
        "id": "view-in-github",
        "colab_type": "text"
      },
      "source": [
        "<a href=\"https://colab.research.google.com/github/hendrixtlan/tareaManipulacionDatos/blob/main/actividad5preprocesamiento.ipynb\" target=\"_parent\"><img src=\"https://colab.research.google.com/assets/colab-badge.svg\" alt=\"Open In Colab\"/></a>"
      ]
    },
    {
      "cell_type": "markdown",
      "metadata": {
        "id": "0v5lZjzQZTms"
      },
      "source": [
        "**MAESTRÍA EN INTELIGENCIA ARTIFICIAL APLICADA**\n",
        "\n",
        "**Curso: TC4029 - Ciencia y analítica de datos**\n",
        "\n",
        "Tecnológico de Monterrey\n",
        "\n",
        "Prof Grettel Barceló Alonso\n",
        "\n",
        "**Semana 5**\n",
        "Preprocesamiento de datos\n",
        "\n",
        "---"
      ]
    },
    {
      "cell_type": "markdown",
      "source": [
        "*   NOMBRE: JOSE ISRAEL MALDONADO JARAMILLO\n",
        "*   MATRÍCULA: A01683218"
      ],
      "metadata": {
        "id": "HfLoXtuKuCug"
      }
    },
    {
      "cell_type": "code",
      "source": [
        "from google.colab import drive\n",
        "drive.mount('/content/drive')"
      ],
      "metadata": {
        "id": "nboaPqUVuHQc",
        "colab": {
          "base_uri": "https://localhost:8080/"
        },
        "outputId": "e610ce58-16f3-48fc-c4bc-8a4495196d91"
      },
      "execution_count": null,
      "outputs": [
        {
          "output_type": "stream",
          "name": "stdout",
          "text": [
            "Drive already mounted at /content/drive; to attempt to forcibly remount, call drive.mount(\"/content/drive\", force_remount=True).\n"
          ]
        }
      ]
    },
    {
      "cell_type": "code",
      "source": [
        "import os\n",
        "DIR = \"/content/drive/MyDrive/Colab Notebooks/\"\n",
        "os.chdir(DIR)"
      ],
      "metadata": {
        "id": "nKdwi4dUuJQG"
      },
      "execution_count": null,
      "outputs": []
    },
    {
      "cell_type": "code",
      "execution_count": null,
      "metadata": {
        "id": "7Qc1oYLeZTmu"
      },
      "outputs": [],
      "source": [
        "import pandas as pd\n",
        "import matplotlib.pyplot as plt\n",
        "import numpy as np\n",
        "import seaborn as sns"
      ]
    },
    {
      "cell_type": "code",
      "execution_count": null,
      "metadata": {
        "colab": {
          "base_uri": "https://localhost:8080/",
          "height": 510
        },
        "id": "8Z_KZl5LZTmz",
        "outputId": "9ebe9aa8-12ec-4ee3-de3e-02f1e3b3c1f2"
      },
      "outputs": [
        {
          "output_type": "execute_result",
          "data": {
            "text/plain": [
              "      Music  Slow songs or fast songs  Dance  Folk  Country  Classical music  \\\n",
              "0       5.0                       3.0    2.0   1.0      2.0              2.0   \n",
              "1       4.0                       4.0    2.0   1.0      1.0              1.0   \n",
              "2       5.0                       5.0    2.0   2.0      3.0              4.0   \n",
              "3       5.0                       3.0    2.0   1.0      1.0              1.0   \n",
              "4       5.0                       3.0    4.0   3.0      2.0              4.0   \n",
              "...     ...                       ...    ...   ...      ...              ...   \n",
              "1005    5.0                       2.0    5.0   2.0      2.0              5.0   \n",
              "1006    4.0                       4.0    5.0   1.0      3.0              4.0   \n",
              "1007    4.0                       3.0    1.0   1.0      2.0              2.0   \n",
              "1008    5.0                       3.0    3.0   3.0      1.0              3.0   \n",
              "1009    5.0                       5.0    4.0   3.0      2.0              3.0   \n",
              "\n",
              "      Musical  Pop  Rock  Metal or Hardrock  ...   Age  Height  Weight  \\\n",
              "0         1.0  5.0   5.0                1.0  ...  20.0   163.0    48.0   \n",
              "1         2.0  3.0   5.0                4.0  ...  19.0   163.0    58.0   \n",
              "2         5.0  3.0   5.0                3.0  ...  20.0   176.0    67.0   \n",
              "3         1.0  2.0   2.0                1.0  ...  22.0   172.0    59.0   \n",
              "4         3.0  5.0   3.0                1.0  ...  20.0   170.0    59.0   \n",
              "...       ...  ...   ...                ...  ...   ...     ...     ...   \n",
              "1005      4.0  4.0   4.0                3.0  ...  20.0   164.0    57.0   \n",
              "1006      1.0  4.0   1.0                1.0  ...  27.0   183.0    80.0   \n",
              "1007      2.0  3.0   4.0                1.0  ...  18.0   173.0    75.0   \n",
              "1008      1.0  3.0   4.0                1.0  ...  25.0   173.0    58.0   \n",
              "1009      3.0  4.0   1.0                1.0  ...  21.0   185.0    72.0   \n",
              "\n",
              "      Number of siblings  Gender  Left - right handed  \\\n",
              "0                    1.0  female         right handed   \n",
              "1                    2.0  female         right handed   \n",
              "2                    2.0  female         right handed   \n",
              "3                    1.0  female         right handed   \n",
              "4                    1.0  female         right handed   \n",
              "...                  ...     ...                  ...   \n",
              "1005                 1.0  female         right handed   \n",
              "1006                 5.0    male          left handed   \n",
              "1007                 0.0  female         right handed   \n",
              "1008                 1.0  female         right handed   \n",
              "1009                 1.0    male         right handed   \n",
              "\n",
              "                    Education  Only child  Village - town  \\\n",
              "0     college/bachelor degree          no         village   \n",
              "1     college/bachelor degree          no            city   \n",
              "2            secondary school          no            city   \n",
              "3     college/bachelor degree         yes            city   \n",
              "4            secondary school          no         village   \n",
              "...                       ...         ...             ...   \n",
              "1005         secondary school          no            city   \n",
              "1006           masters degree          no         village   \n",
              "1007         secondary school         yes            city   \n",
              "1008  college/bachelor degree          no            city   \n",
              "1009         secondary school          no         village   \n",
              "\n",
              "      House - block of flats  \n",
              "0             block of flats  \n",
              "1             block of flats  \n",
              "2             block of flats  \n",
              "3             house/bungalow  \n",
              "4             house/bungalow  \n",
              "...                      ...  \n",
              "1005          house/bungalow  \n",
              "1006          house/bungalow  \n",
              "1007          block of flats  \n",
              "1008          block of flats  \n",
              "1009          house/bungalow  \n",
              "\n",
              "[1010 rows x 150 columns]"
            ],
            "text/html": [
              "\n",
              "  <div id=\"df-664fcf13-fdff-4c4c-b997-6437258e2711\" class=\"colab-df-container\">\n",
              "    <div>\n",
              "<style scoped>\n",
              "    .dataframe tbody tr th:only-of-type {\n",
              "        vertical-align: middle;\n",
              "    }\n",
              "\n",
              "    .dataframe tbody tr th {\n",
              "        vertical-align: top;\n",
              "    }\n",
              "\n",
              "    .dataframe thead th {\n",
              "        text-align: right;\n",
              "    }\n",
              "</style>\n",
              "<table border=\"1\" class=\"dataframe\">\n",
              "  <thead>\n",
              "    <tr style=\"text-align: right;\">\n",
              "      <th></th>\n",
              "      <th>Music</th>\n",
              "      <th>Slow songs or fast songs</th>\n",
              "      <th>Dance</th>\n",
              "      <th>Folk</th>\n",
              "      <th>Country</th>\n",
              "      <th>Classical music</th>\n",
              "      <th>Musical</th>\n",
              "      <th>Pop</th>\n",
              "      <th>Rock</th>\n",
              "      <th>Metal or Hardrock</th>\n",
              "      <th>...</th>\n",
              "      <th>Age</th>\n",
              "      <th>Height</th>\n",
              "      <th>Weight</th>\n",
              "      <th>Number of siblings</th>\n",
              "      <th>Gender</th>\n",
              "      <th>Left - right handed</th>\n",
              "      <th>Education</th>\n",
              "      <th>Only child</th>\n",
              "      <th>Village - town</th>\n",
              "      <th>House - block of flats</th>\n",
              "    </tr>\n",
              "  </thead>\n",
              "  <tbody>\n",
              "    <tr>\n",
              "      <th>0</th>\n",
              "      <td>5.0</td>\n",
              "      <td>3.0</td>\n",
              "      <td>2.0</td>\n",
              "      <td>1.0</td>\n",
              "      <td>2.0</td>\n",
              "      <td>2.0</td>\n",
              "      <td>1.0</td>\n",
              "      <td>5.0</td>\n",
              "      <td>5.0</td>\n",
              "      <td>1.0</td>\n",
              "      <td>...</td>\n",
              "      <td>20.0</td>\n",
              "      <td>163.0</td>\n",
              "      <td>48.0</td>\n",
              "      <td>1.0</td>\n",
              "      <td>female</td>\n",
              "      <td>right handed</td>\n",
              "      <td>college/bachelor degree</td>\n",
              "      <td>no</td>\n",
              "      <td>village</td>\n",
              "      <td>block of flats</td>\n",
              "    </tr>\n",
              "    <tr>\n",
              "      <th>1</th>\n",
              "      <td>4.0</td>\n",
              "      <td>4.0</td>\n",
              "      <td>2.0</td>\n",
              "      <td>1.0</td>\n",
              "      <td>1.0</td>\n",
              "      <td>1.0</td>\n",
              "      <td>2.0</td>\n",
              "      <td>3.0</td>\n",
              "      <td>5.0</td>\n",
              "      <td>4.0</td>\n",
              "      <td>...</td>\n",
              "      <td>19.0</td>\n",
              "      <td>163.0</td>\n",
              "      <td>58.0</td>\n",
              "      <td>2.0</td>\n",
              "      <td>female</td>\n",
              "      <td>right handed</td>\n",
              "      <td>college/bachelor degree</td>\n",
              "      <td>no</td>\n",
              "      <td>city</td>\n",
              "      <td>block of flats</td>\n",
              "    </tr>\n",
              "    <tr>\n",
              "      <th>2</th>\n",
              "      <td>5.0</td>\n",
              "      <td>5.0</td>\n",
              "      <td>2.0</td>\n",
              "      <td>2.0</td>\n",
              "      <td>3.0</td>\n",
              "      <td>4.0</td>\n",
              "      <td>5.0</td>\n",
              "      <td>3.0</td>\n",
              "      <td>5.0</td>\n",
              "      <td>3.0</td>\n",
              "      <td>...</td>\n",
              "      <td>20.0</td>\n",
              "      <td>176.0</td>\n",
              "      <td>67.0</td>\n",
              "      <td>2.0</td>\n",
              "      <td>female</td>\n",
              "      <td>right handed</td>\n",
              "      <td>secondary school</td>\n",
              "      <td>no</td>\n",
              "      <td>city</td>\n",
              "      <td>block of flats</td>\n",
              "    </tr>\n",
              "    <tr>\n",
              "      <th>3</th>\n",
              "      <td>5.0</td>\n",
              "      <td>3.0</td>\n",
              "      <td>2.0</td>\n",
              "      <td>1.0</td>\n",
              "      <td>1.0</td>\n",
              "      <td>1.0</td>\n",
              "      <td>1.0</td>\n",
              "      <td>2.0</td>\n",
              "      <td>2.0</td>\n",
              "      <td>1.0</td>\n",
              "      <td>...</td>\n",
              "      <td>22.0</td>\n",
              "      <td>172.0</td>\n",
              "      <td>59.0</td>\n",
              "      <td>1.0</td>\n",
              "      <td>female</td>\n",
              "      <td>right handed</td>\n",
              "      <td>college/bachelor degree</td>\n",
              "      <td>yes</td>\n",
              "      <td>city</td>\n",
              "      <td>house/bungalow</td>\n",
              "    </tr>\n",
              "    <tr>\n",
              "      <th>4</th>\n",
              "      <td>5.0</td>\n",
              "      <td>3.0</td>\n",
              "      <td>4.0</td>\n",
              "      <td>3.0</td>\n",
              "      <td>2.0</td>\n",
              "      <td>4.0</td>\n",
              "      <td>3.0</td>\n",
              "      <td>5.0</td>\n",
              "      <td>3.0</td>\n",
              "      <td>1.0</td>\n",
              "      <td>...</td>\n",
              "      <td>20.0</td>\n",
              "      <td>170.0</td>\n",
              "      <td>59.0</td>\n",
              "      <td>1.0</td>\n",
              "      <td>female</td>\n",
              "      <td>right handed</td>\n",
              "      <td>secondary school</td>\n",
              "      <td>no</td>\n",
              "      <td>village</td>\n",
              "      <td>house/bungalow</td>\n",
              "    </tr>\n",
              "    <tr>\n",
              "      <th>...</th>\n",
              "      <td>...</td>\n",
              "      <td>...</td>\n",
              "      <td>...</td>\n",
              "      <td>...</td>\n",
              "      <td>...</td>\n",
              "      <td>...</td>\n",
              "      <td>...</td>\n",
              "      <td>...</td>\n",
              "      <td>...</td>\n",
              "      <td>...</td>\n",
              "      <td>...</td>\n",
              "      <td>...</td>\n",
              "      <td>...</td>\n",
              "      <td>...</td>\n",
              "      <td>...</td>\n",
              "      <td>...</td>\n",
              "      <td>...</td>\n",
              "      <td>...</td>\n",
              "      <td>...</td>\n",
              "      <td>...</td>\n",
              "      <td>...</td>\n",
              "    </tr>\n",
              "    <tr>\n",
              "      <th>1005</th>\n",
              "      <td>5.0</td>\n",
              "      <td>2.0</td>\n",
              "      <td>5.0</td>\n",
              "      <td>2.0</td>\n",
              "      <td>2.0</td>\n",
              "      <td>5.0</td>\n",
              "      <td>4.0</td>\n",
              "      <td>4.0</td>\n",
              "      <td>4.0</td>\n",
              "      <td>3.0</td>\n",
              "      <td>...</td>\n",
              "      <td>20.0</td>\n",
              "      <td>164.0</td>\n",
              "      <td>57.0</td>\n",
              "      <td>1.0</td>\n",
              "      <td>female</td>\n",
              "      <td>right handed</td>\n",
              "      <td>secondary school</td>\n",
              "      <td>no</td>\n",
              "      <td>city</td>\n",
              "      <td>house/bungalow</td>\n",
              "    </tr>\n",
              "    <tr>\n",
              "      <th>1006</th>\n",
              "      <td>4.0</td>\n",
              "      <td>4.0</td>\n",
              "      <td>5.0</td>\n",
              "      <td>1.0</td>\n",
              "      <td>3.0</td>\n",
              "      <td>4.0</td>\n",
              "      <td>1.0</td>\n",
              "      <td>4.0</td>\n",
              "      <td>1.0</td>\n",
              "      <td>1.0</td>\n",
              "      <td>...</td>\n",
              "      <td>27.0</td>\n",
              "      <td>183.0</td>\n",
              "      <td>80.0</td>\n",
              "      <td>5.0</td>\n",
              "      <td>male</td>\n",
              "      <td>left handed</td>\n",
              "      <td>masters degree</td>\n",
              "      <td>no</td>\n",
              "      <td>village</td>\n",
              "      <td>house/bungalow</td>\n",
              "    </tr>\n",
              "    <tr>\n",
              "      <th>1007</th>\n",
              "      <td>4.0</td>\n",
              "      <td>3.0</td>\n",
              "      <td>1.0</td>\n",
              "      <td>1.0</td>\n",
              "      <td>2.0</td>\n",
              "      <td>2.0</td>\n",
              "      <td>2.0</td>\n",
              "      <td>3.0</td>\n",
              "      <td>4.0</td>\n",
              "      <td>1.0</td>\n",
              "      <td>...</td>\n",
              "      <td>18.0</td>\n",
              "      <td>173.0</td>\n",
              "      <td>75.0</td>\n",
              "      <td>0.0</td>\n",
              "      <td>female</td>\n",
              "      <td>right handed</td>\n",
              "      <td>secondary school</td>\n",
              "      <td>yes</td>\n",
              "      <td>city</td>\n",
              "      <td>block of flats</td>\n",
              "    </tr>\n",
              "    <tr>\n",
              "      <th>1008</th>\n",
              "      <td>5.0</td>\n",
              "      <td>3.0</td>\n",
              "      <td>3.0</td>\n",
              "      <td>3.0</td>\n",
              "      <td>1.0</td>\n",
              "      <td>3.0</td>\n",
              "      <td>1.0</td>\n",
              "      <td>3.0</td>\n",
              "      <td>4.0</td>\n",
              "      <td>1.0</td>\n",
              "      <td>...</td>\n",
              "      <td>25.0</td>\n",
              "      <td>173.0</td>\n",
              "      <td>58.0</td>\n",
              "      <td>1.0</td>\n",
              "      <td>female</td>\n",
              "      <td>right handed</td>\n",
              "      <td>college/bachelor degree</td>\n",
              "      <td>no</td>\n",
              "      <td>city</td>\n",
              "      <td>block of flats</td>\n",
              "    </tr>\n",
              "    <tr>\n",
              "      <th>1009</th>\n",
              "      <td>5.0</td>\n",
              "      <td>5.0</td>\n",
              "      <td>4.0</td>\n",
              "      <td>3.0</td>\n",
              "      <td>2.0</td>\n",
              "      <td>3.0</td>\n",
              "      <td>3.0</td>\n",
              "      <td>4.0</td>\n",
              "      <td>1.0</td>\n",
              "      <td>1.0</td>\n",
              "      <td>...</td>\n",
              "      <td>21.0</td>\n",
              "      <td>185.0</td>\n",
              "      <td>72.0</td>\n",
              "      <td>1.0</td>\n",
              "      <td>male</td>\n",
              "      <td>right handed</td>\n",
              "      <td>secondary school</td>\n",
              "      <td>no</td>\n",
              "      <td>village</td>\n",
              "      <td>house/bungalow</td>\n",
              "    </tr>\n",
              "  </tbody>\n",
              "</table>\n",
              "<p>1010 rows × 150 columns</p>\n",
              "</div>\n",
              "    <div class=\"colab-df-buttons\">\n",
              "\n",
              "  <div class=\"colab-df-container\">\n",
              "    <button class=\"colab-df-convert\" onclick=\"convertToInteractive('df-664fcf13-fdff-4c4c-b997-6437258e2711')\"\n",
              "            title=\"Convert this dataframe to an interactive table.\"\n",
              "            style=\"display:none;\">\n",
              "\n",
              "  <svg xmlns=\"http://www.w3.org/2000/svg\" height=\"24px\" viewBox=\"0 -960 960 960\">\n",
              "    <path d=\"M120-120v-720h720v720H120Zm60-500h600v-160H180v160Zm220 220h160v-160H400v160Zm0 220h160v-160H400v160ZM180-400h160v-160H180v160Zm440 0h160v-160H620v160ZM180-180h160v-160H180v160Zm440 0h160v-160H620v160Z\"/>\n",
              "  </svg>\n",
              "    </button>\n",
              "\n",
              "  <style>\n",
              "    .colab-df-container {\n",
              "      display:flex;\n",
              "      gap: 12px;\n",
              "    }\n",
              "\n",
              "    .colab-df-convert {\n",
              "      background-color: #E8F0FE;\n",
              "      border: none;\n",
              "      border-radius: 50%;\n",
              "      cursor: pointer;\n",
              "      display: none;\n",
              "      fill: #1967D2;\n",
              "      height: 32px;\n",
              "      padding: 0 0 0 0;\n",
              "      width: 32px;\n",
              "    }\n",
              "\n",
              "    .colab-df-convert:hover {\n",
              "      background-color: #E2EBFA;\n",
              "      box-shadow: 0px 1px 2px rgba(60, 64, 67, 0.3), 0px 1px 3px 1px rgba(60, 64, 67, 0.15);\n",
              "      fill: #174EA6;\n",
              "    }\n",
              "\n",
              "    .colab-df-buttons div {\n",
              "      margin-bottom: 4px;\n",
              "    }\n",
              "\n",
              "    [theme=dark] .colab-df-convert {\n",
              "      background-color: #3B4455;\n",
              "      fill: #D2E3FC;\n",
              "    }\n",
              "\n",
              "    [theme=dark] .colab-df-convert:hover {\n",
              "      background-color: #434B5C;\n",
              "      box-shadow: 0px 1px 3px 1px rgba(0, 0, 0, 0.15);\n",
              "      filter: drop-shadow(0px 1px 2px rgba(0, 0, 0, 0.3));\n",
              "      fill: #FFFFFF;\n",
              "    }\n",
              "  </style>\n",
              "\n",
              "    <script>\n",
              "      const buttonEl =\n",
              "        document.querySelector('#df-664fcf13-fdff-4c4c-b997-6437258e2711 button.colab-df-convert');\n",
              "      buttonEl.style.display =\n",
              "        google.colab.kernel.accessAllowed ? 'block' : 'none';\n",
              "\n",
              "      async function convertToInteractive(key) {\n",
              "        const element = document.querySelector('#df-664fcf13-fdff-4c4c-b997-6437258e2711');\n",
              "        const dataTable =\n",
              "          await google.colab.kernel.invokeFunction('convertToInteractive',\n",
              "                                                    [key], {});\n",
              "        if (!dataTable) return;\n",
              "\n",
              "        const docLinkHtml = 'Like what you see? Visit the ' +\n",
              "          '<a target=\"_blank\" href=https://colab.research.google.com/notebooks/data_table.ipynb>data table notebook</a>'\n",
              "          + ' to learn more about interactive tables.';\n",
              "        element.innerHTML = '';\n",
              "        dataTable['output_type'] = 'display_data';\n",
              "        await google.colab.output.renderOutput(dataTable, element);\n",
              "        const docLink = document.createElement('div');\n",
              "        docLink.innerHTML = docLinkHtml;\n",
              "        element.appendChild(docLink);\n",
              "      }\n",
              "    </script>\n",
              "  </div>\n",
              "\n",
              "\n",
              "<div id=\"df-118cb758-bf6e-40bf-8947-0468d8b9d8a8\">\n",
              "  <button class=\"colab-df-quickchart\" onclick=\"quickchart('df-118cb758-bf6e-40bf-8947-0468d8b9d8a8')\"\n",
              "            title=\"Suggest charts\"\n",
              "            style=\"display:none;\">\n",
              "\n",
              "<svg xmlns=\"http://www.w3.org/2000/svg\" height=\"24px\"viewBox=\"0 0 24 24\"\n",
              "     width=\"24px\">\n",
              "    <g>\n",
              "        <path d=\"M19 3H5c-1.1 0-2 .9-2 2v14c0 1.1.9 2 2 2h14c1.1 0 2-.9 2-2V5c0-1.1-.9-2-2-2zM9 17H7v-7h2v7zm4 0h-2V7h2v10zm4 0h-2v-4h2v4z\"/>\n",
              "    </g>\n",
              "</svg>\n",
              "  </button>\n",
              "\n",
              "<style>\n",
              "  .colab-df-quickchart {\n",
              "      --bg-color: #E8F0FE;\n",
              "      --fill-color: #1967D2;\n",
              "      --hover-bg-color: #E2EBFA;\n",
              "      --hover-fill-color: #174EA6;\n",
              "      --disabled-fill-color: #AAA;\n",
              "      --disabled-bg-color: #DDD;\n",
              "  }\n",
              "\n",
              "  [theme=dark] .colab-df-quickchart {\n",
              "      --bg-color: #3B4455;\n",
              "      --fill-color: #D2E3FC;\n",
              "      --hover-bg-color: #434B5C;\n",
              "      --hover-fill-color: #FFFFFF;\n",
              "      --disabled-bg-color: #3B4455;\n",
              "      --disabled-fill-color: #666;\n",
              "  }\n",
              "\n",
              "  .colab-df-quickchart {\n",
              "    background-color: var(--bg-color);\n",
              "    border: none;\n",
              "    border-radius: 50%;\n",
              "    cursor: pointer;\n",
              "    display: none;\n",
              "    fill: var(--fill-color);\n",
              "    height: 32px;\n",
              "    padding: 0;\n",
              "    width: 32px;\n",
              "  }\n",
              "\n",
              "  .colab-df-quickchart:hover {\n",
              "    background-color: var(--hover-bg-color);\n",
              "    box-shadow: 0 1px 2px rgba(60, 64, 67, 0.3), 0 1px 3px 1px rgba(60, 64, 67, 0.15);\n",
              "    fill: var(--button-hover-fill-color);\n",
              "  }\n",
              "\n",
              "  .colab-df-quickchart-complete:disabled,\n",
              "  .colab-df-quickchart-complete:disabled:hover {\n",
              "    background-color: var(--disabled-bg-color);\n",
              "    fill: var(--disabled-fill-color);\n",
              "    box-shadow: none;\n",
              "  }\n",
              "\n",
              "  .colab-df-spinner {\n",
              "    border: 2px solid var(--fill-color);\n",
              "    border-color: transparent;\n",
              "    border-bottom-color: var(--fill-color);\n",
              "    animation:\n",
              "      spin 1s steps(1) infinite;\n",
              "  }\n",
              "\n",
              "  @keyframes spin {\n",
              "    0% {\n",
              "      border-color: transparent;\n",
              "      border-bottom-color: var(--fill-color);\n",
              "      border-left-color: var(--fill-color);\n",
              "    }\n",
              "    20% {\n",
              "      border-color: transparent;\n",
              "      border-left-color: var(--fill-color);\n",
              "      border-top-color: var(--fill-color);\n",
              "    }\n",
              "    30% {\n",
              "      border-color: transparent;\n",
              "      border-left-color: var(--fill-color);\n",
              "      border-top-color: var(--fill-color);\n",
              "      border-right-color: var(--fill-color);\n",
              "    }\n",
              "    40% {\n",
              "      border-color: transparent;\n",
              "      border-right-color: var(--fill-color);\n",
              "      border-top-color: var(--fill-color);\n",
              "    }\n",
              "    60% {\n",
              "      border-color: transparent;\n",
              "      border-right-color: var(--fill-color);\n",
              "    }\n",
              "    80% {\n",
              "      border-color: transparent;\n",
              "      border-right-color: var(--fill-color);\n",
              "      border-bottom-color: var(--fill-color);\n",
              "    }\n",
              "    90% {\n",
              "      border-color: transparent;\n",
              "      border-bottom-color: var(--fill-color);\n",
              "    }\n",
              "  }\n",
              "</style>\n",
              "\n",
              "  <script>\n",
              "    async function quickchart(key) {\n",
              "      const quickchartButtonEl =\n",
              "        document.querySelector('#' + key + ' button');\n",
              "      quickchartButtonEl.disabled = true;  // To prevent multiple clicks.\n",
              "      quickchartButtonEl.classList.add('colab-df-spinner');\n",
              "      try {\n",
              "        const charts = await google.colab.kernel.invokeFunction(\n",
              "            'suggestCharts', [key], {});\n",
              "      } catch (error) {\n",
              "        console.error('Error during call to suggestCharts:', error);\n",
              "      }\n",
              "      quickchartButtonEl.classList.remove('colab-df-spinner');\n",
              "      quickchartButtonEl.classList.add('colab-df-quickchart-complete');\n",
              "    }\n",
              "    (() => {\n",
              "      let quickchartButtonEl =\n",
              "        document.querySelector('#df-118cb758-bf6e-40bf-8947-0468d8b9d8a8 button');\n",
              "      quickchartButtonEl.style.display =\n",
              "        google.colab.kernel.accessAllowed ? 'block' : 'none';\n",
              "    })();\n",
              "  </script>\n",
              "</div>\n",
              "\n",
              "  <div id=\"id_6d7fbfbd-b121-4e85-9cec-90e5018c0980\">\n",
              "    <style>\n",
              "      .colab-df-generate {\n",
              "        background-color: #E8F0FE;\n",
              "        border: none;\n",
              "        border-radius: 50%;\n",
              "        cursor: pointer;\n",
              "        display: none;\n",
              "        fill: #1967D2;\n",
              "        height: 32px;\n",
              "        padding: 0 0 0 0;\n",
              "        width: 32px;\n",
              "      }\n",
              "\n",
              "      .colab-df-generate:hover {\n",
              "        background-color: #E2EBFA;\n",
              "        box-shadow: 0px 1px 2px rgba(60, 64, 67, 0.3), 0px 1px 3px 1px rgba(60, 64, 67, 0.15);\n",
              "        fill: #174EA6;\n",
              "      }\n",
              "\n",
              "      [theme=dark] .colab-df-generate {\n",
              "        background-color: #3B4455;\n",
              "        fill: #D2E3FC;\n",
              "      }\n",
              "\n",
              "      [theme=dark] .colab-df-generate:hover {\n",
              "        background-color: #434B5C;\n",
              "        box-shadow: 0px 1px 3px 1px rgba(0, 0, 0, 0.15);\n",
              "        filter: drop-shadow(0px 1px 2px rgba(0, 0, 0, 0.3));\n",
              "        fill: #FFFFFF;\n",
              "      }\n",
              "    </style>\n",
              "    <button class=\"colab-df-generate\" onclick=\"generateWithVariable('response_df')\"\n",
              "            title=\"Generate code using this dataframe.\"\n",
              "            style=\"display:none;\">\n",
              "\n",
              "  <svg xmlns=\"http://www.w3.org/2000/svg\" height=\"24px\"viewBox=\"0 0 24 24\"\n",
              "       width=\"24px\">\n",
              "    <path d=\"M7,19H8.4L18.45,9,17,7.55,7,17.6ZM5,21V16.75L18.45,3.32a2,2,0,0,1,2.83,0l1.4,1.43a1.91,1.91,0,0,1,.58,1.4,1.91,1.91,0,0,1-.58,1.4L9.25,21ZM18.45,9,17,7.55Zm-12,3A5.31,5.31,0,0,0,4.9,8.1,5.31,5.31,0,0,0,1,6.5,5.31,5.31,0,0,0,4.9,4.9,5.31,5.31,0,0,0,6.5,1,5.31,5.31,0,0,0,8.1,4.9,5.31,5.31,0,0,0,12,6.5,5.46,5.46,0,0,0,6.5,12Z\"/>\n",
              "  </svg>\n",
              "    </button>\n",
              "    <script>\n",
              "      (() => {\n",
              "      const buttonEl =\n",
              "        document.querySelector('#id_6d7fbfbd-b121-4e85-9cec-90e5018c0980 button.colab-df-generate');\n",
              "      buttonEl.style.display =\n",
              "        google.colab.kernel.accessAllowed ? 'block' : 'none';\n",
              "\n",
              "      buttonEl.onclick = () => {\n",
              "        google.colab.notebook.generateWithVariable('response_df');\n",
              "      }\n",
              "      })();\n",
              "    </script>\n",
              "  </div>\n",
              "\n",
              "    </div>\n",
              "  </div>\n"
            ]
          },
          "metadata": {},
          "execution_count": 78
        }
      ],
      "source": [
        "response_df = pd.read_csv('responses.csv')\n",
        "response_df"
      ]
    },
    {
      "cell_type": "markdown",
      "source": [
        "1. Determina cuántas variables numéricas y cuántas de texto posee el conjunto de datos con el método `info()` y utiliza el método `describe()` del dataframe, para obtener el resumen de las estadísticas descriptivas. Separa el análisis según el tipo de datos (number, object)."
      ],
      "metadata": {
        "id": "1k02v3UK_buz"
      }
    },
    {
      "cell_type": "code",
      "source": [
        "print(response_df.info())\n",
        "print(response_df[response_df.columns[response_df.dtypes==\"object\"]].describe())\n",
        "print(response_df[response_df.columns].describe(exclude=[object]))\n"
      ],
      "metadata": {
        "id": "tXvqye_oZV6T",
        "colab": {
          "base_uri": "https://localhost:8080/"
        },
        "outputId": "7f4c508f-f91f-4136-c952-6e2625e20ed4"
      },
      "execution_count": null,
      "outputs": [
        {
          "output_type": "stream",
          "name": "stdout",
          "text": [
            "<class 'pandas.core.frame.DataFrame'>\n",
            "RangeIndex: 1010 entries, 0 to 1009\n",
            "Columns: 150 entries, Music to House - block of flats\n",
            "dtypes: float64(134), int64(5), object(11)\n",
            "memory usage: 1.2+ MB\n",
            "None\n",
            "              Smoking         Alcohol          Punctuality      Lying  \\\n",
            "count            1002            1005                 1008       1008   \n",
            "unique              4               3                    3          4   \n",
            "top     tried smoking  social drinker  i am always on time  sometimes   \n",
            "freq              430             659                  399        549   \n",
            "\n",
            "         Internet usage  Gender Left - right handed         Education  \\\n",
            "count              1010    1004                1007              1009   \n",
            "unique                4       2                   2                 6   \n",
            "top     few hours a day  female        right handed  secondary school   \n",
            "freq                744     593                 906               621   \n",
            "\n",
            "       Only child Village - town House - block of flats  \n",
            "count        1008           1006                   1006  \n",
            "unique          2              2                      2  \n",
            "top            no           city         block of flats  \n",
            "freq          754            707                    595  \n",
            "             Music  Slow songs or fast songs        Dance         Folk  \\\n",
            "count  1007.000000               1008.000000  1006.000000  1005.000000   \n",
            "mean      4.731877                  3.328373     3.113320     2.288557   \n",
            "std       0.664049                  0.833931     1.170568     1.138916   \n",
            "min       1.000000                  1.000000     1.000000     1.000000   \n",
            "25%       5.000000                  3.000000     2.000000     1.000000   \n",
            "50%       5.000000                  3.000000     3.000000     2.000000   \n",
            "75%       5.000000                  4.000000     4.000000     3.000000   \n",
            "max       5.000000                  5.000000     5.000000     5.000000   \n",
            "\n",
            "           Country  Classical music      Musical          Pop         Rock  \\\n",
            "count  1005.000000      1003.000000  1008.000000  1007.000000  1004.000000   \n",
            "mean      2.123383         2.956132     2.761905     3.471698     3.761952   \n",
            "std       1.076136         1.252570     1.260845     1.161400     1.184861   \n",
            "min       1.000000         1.000000     1.000000     1.000000     1.000000   \n",
            "25%       1.000000         2.000000     2.000000     3.000000     3.000000   \n",
            "50%       2.000000         3.000000     3.000000     4.000000     4.000000   \n",
            "75%       3.000000         4.000000     4.000000     4.000000     5.000000   \n",
            "max       5.000000         5.000000     5.000000     5.000000     5.000000   \n",
            "\n",
            "       Metal or Hardrock  ...  Shopping centres  Branded clothing  \\\n",
            "count        1007.000000  ...       1008.000000       1008.000000   \n",
            "mean            2.361470  ...          3.234127          3.050595   \n",
            "std             1.372995  ...          1.323062          1.306321   \n",
            "min             1.000000  ...          1.000000          1.000000   \n",
            "25%             1.000000  ...          2.000000          2.000000   \n",
            "50%             2.000000  ...          3.000000          3.000000   \n",
            "75%             3.000000  ...          4.000000          4.000000   \n",
            "max             5.000000  ...          5.000000          5.000000   \n",
            "\n",
            "       Entertainment spending  Spending on looks  Spending on gadgets  \\\n",
            "count             1007.000000        1007.000000          1010.000000   \n",
            "mean                 3.201589           3.106256             2.870297   \n",
            "std                  1.188947           1.205368             1.284970   \n",
            "min                  1.000000           1.000000             1.000000   \n",
            "25%                  2.000000           2.000000             2.000000   \n",
            "50%                  3.000000           3.000000             3.000000   \n",
            "75%                  4.000000           4.000000             4.000000   \n",
            "max                  5.000000           5.000000             5.000000   \n",
            "\n",
            "       Spending on healthy eating          Age      Height      Weight  \\\n",
            "count                  1008.00000  1003.000000  990.000000  990.000000   \n",
            "mean                      3.55754    20.433699  173.514141   66.405051   \n",
            "std                       1.09375     2.828840   10.024505   13.839561   \n",
            "min                       1.00000    15.000000   62.000000   41.000000   \n",
            "25%                       3.00000    19.000000  167.000000   55.000000   \n",
            "50%                       4.00000    20.000000  173.000000   64.000000   \n",
            "75%                       4.00000    22.000000  180.000000   75.000000   \n",
            "max                       5.00000    30.000000  203.000000  165.000000   \n",
            "\n",
            "       Number of siblings  \n",
            "count         1004.000000  \n",
            "mean             1.297809  \n",
            "std              1.013348  \n",
            "min              0.000000  \n",
            "25%              1.000000  \n",
            "50%              1.000000  \n",
            "75%              2.000000  \n",
            "max             10.000000  \n",
            "\n",
            "[8 rows x 139 columns]\n"
          ]
        }
      ]
    },
    {
      "cell_type": "markdown",
      "source": [
        "2. Clasifique la variable `Weight` según su escala de medición. En función de ello elija el gráfico a generar (histograma / barras) y fundamente su elección.\n"
      ],
      "metadata": {
        "id": "N7Hsy0_6_pMv"
      }
    },
    {
      "cell_type": "code",
      "source": [
        "weight = response_df[\"Weight\"]\n",
        "fig, axs = plt.subplots(ncols=2, nrows=1, figsize=(24,6))\n",
        "axs[0].hist(weight, bins=30, density=True, color=\"#3182bd\", alpha=0.5)\n",
        "axs[0].plot(weight, np.full_like(weight, -0.001), '|k', markeredgewidth=1)\n",
        "axs[0].set_title('Histograma (normalizado) \\n 10 observaciones, 30 bins')\n",
        "axs[0].set_xlabel('x')\n",
        "axs[0].set_ylabel('weight');\n",
        "# elegí histograma porque peso requiere un análisis cualitativo de tipo continuo dada la naturaleza del dato"
      ],
      "metadata": {
        "id": "fY4OJ-89ZX4X",
        "colab": {
          "base_uri": "https://localhost:8080/",
          "height": 521
        },
        "outputId": "c7d1a5e1-e89a-41d5-d31e-035a894b3a64"
      },
      "execution_count": null,
      "outputs": [
        {
          "output_type": "display_data",
          "data": {
            "text/plain": [
              "<Figure size 2400x600 with 2 Axes>"
            ],
            "image/png": "[encoded data removed]"
          },
          "metadata": {}
        }
      ]
    },
    {
      "cell_type": "markdown",
      "source": [
        "3. Clasifique la distribución del peso según su asimetría, justificando tu respuesta. Incluye el cálculo numérico que lo demuestra."
      ],
      "metadata": {
        "id": "oE8ascx0_3uz"
      }
    },
    {
      "cell_type": "code",
      "source": [
        "print(weight.mean())\n",
        "print(weight.median())\n",
        "print(weight.skew())"
      ],
      "metadata": {
        "id": "aZtuwJTeZZMJ",
        "colab": {
          "base_uri": "https://localhost:8080/"
        },
        "outputId": "cab6b6df-e126-468a-a0d6-c8003492a85e"
      },
      "execution_count": null,
      "outputs": [
        {
          "output_type": "stream",
          "name": "stdout",
          "text": [
            "66.40505050505051\n",
            "64.0\n",
            "1.2237251927527477\n"
          ]
        }
      ]
    },
    {
      "cell_type": "markdown",
      "source": [
        "4. ¿Cuántos valores faltantes tiene la variable `Weight`? ¿Qué porcentaje representa?\n"
      ],
      "metadata": {
        "id": "PbEJw57zAjKb"
      }
    },
    {
      "cell_type": "code",
      "source": [
        "weight.info()\n",
        "print('\\n')\n",
        "print('Numero de valores faltantes:')\n",
        "n_MV = weight.isna().sum()\n",
        "print('{}'.format(n_MV))\n",
        "print('\\n')\n",
        "print('Representando el ')\n",
        "weight_count = len(weight)\n",
        "total = 100 * round (n_MV / weight_count, 2)\n",
        "print(total, '% del total')\n"
      ],
      "metadata": {
        "id": "O9tOsh4SZath",
        "colab": {
          "base_uri": "https://localhost:8080/"
        },
        "outputId": "8fca7cbb-f6dc-47d9-f581-902c029a39da"
      },
      "execution_count": null,
      "outputs": [
        {
          "output_type": "stream",
          "name": "stdout",
          "text": [
            "<class 'pandas.core.series.Series'>\n",
            "RangeIndex: 1010 entries, 0 to 1009\n",
            "Series name: Weight\n",
            "Non-Null Count  Dtype  \n",
            "--------------  -----  \n",
            "990 non-null    float64\n",
            "dtypes: float64(1)\n",
            "memory usage: 8.0 KB\n",
            "\n",
            "\n",
            "Numero de valores faltantes:\n",
            "20\n",
            "\n",
            "\n",
            "Representando el \n",
            "2.0 % del total\n"
          ]
        }
      ]
    },
    {
      "cell_type": "markdown",
      "source": [
        "5. ¿Tendrán los valores faltantes de `Weight` relación con alguna otra variable? Analízalo considerando las siguientes columnas:\n",
        "*   Numéricas: `Age, Number of siblings`\n",
        "*   Categóricas: `Gender, Education`\n",
        "\n",
        "Para ello deberás dividir cada columna en dos grupos: con/sin faltantes en `Weight` y utilizar métodos gráficos y la prueba t para ver si hay diferencias significativas.\n",
        "\n",
        "**NOTA**. Puedes reutilizar las funciones `Diagnose_MV_Numerical` y `Diagnose_MV_Categorical` definidas en Hands-On-Prep_Missing_Values.zip. Revisa nuevamente cómo utilizarlas."
      ],
      "metadata": {
        "id": "gGdTTlwoAvRN"
      }
    },
    {
      "cell_type": "code",
      "source": [
        "from scipy.stats import ttest_ind\n",
        "def Diagnose_MV_Numerical(response_df,str_att_name,BM_MV):\n",
        "    MV_labels = {True:'With Missing Values',False:'Without Missing Values'}\n",
        "\n",
        "    labels=[]\n",
        "    box_sr = pd.Series('',index = BM_MV.unique())\n",
        "    for poss in BM_MV.unique():\n",
        "        BM = BM_MV == poss\n",
        "        box_sr[poss] = response_df[BM][str_att_name].dropna()\n",
        "        labels.append(MV_labels[poss])\n",
        "\n",
        "    plt.boxplot(box_sr,vert=False)\n",
        "    plt.yticks([1,2],labels)\n",
        "    plt.xlabel(str_att_name)\n",
        "    plt.show()\n",
        "\n",
        "    plt.figure(figsize=(10,4))\n",
        "\n",
        "    att_range = (response_df[str_att_name].min(),response_df[str_att_name].max())\n",
        "\n",
        "    for i,poss in enumerate(BM_MV.unique()):\n",
        "        plt.subplot(1,2,i+1)\n",
        "        BM = BM_MV == poss\n",
        "        response_df[BM][str_att_name].hist()\n",
        "        plt.xlim = att_range\n",
        "        plt.xlabel(str_att_name)\n",
        "        plt.title(MV_labels[poss])\n",
        "\n",
        "    plt.show()\n",
        "\n",
        "    group_1_data = response_df[BM_MV][str_att_name].dropna()\n",
        "    group_2_data = response_df[~BM_MV][str_att_name].dropna()\n",
        "\n",
        "    p_value = ttest_ind(group_1_data,group_2_data).pvalue\n",
        "\n",
        "    print('p-value of t-test: {}'.format(p_value))"
      ],
      "metadata": {
        "id": "mpbWpH_xcw1X"
      },
      "execution_count": null,
      "outputs": []
    },
    {
      "cell_type": "code",
      "source": [
        "from scipy.stats import chi2_contingency\n",
        "def Diagnose_MV_Categorical(df,str_att_name,BM_MV):\n",
        "    MV_labels = {True:'With Missing Values',False:'Without Missing Values'}\n",
        "\n",
        "    plt.figure(figsize=(10,4))\n",
        "    for i,poss in enumerate(BM_MV.unique()):\n",
        "        plt.subplot(1,2,i+1)\n",
        "        BM = BM_MV == poss\n",
        "        response_df[BM][str_att_name].value_counts().plot.bar()\n",
        "        plt.title(MV_labels[poss])\n",
        "    plt.show()\n",
        "\n",
        "    contigency_table = pd.crosstab(BM_MV,response_df[str_att_name])\n",
        "    p_value = chi2_contingency(contigency_table)[1]\n",
        "\n",
        "    print('p-value of Chi_squared test: {}'.format(p_value))\n",
        "\n",
        "\n"
      ],
      "metadata": {
        "id": "ejjqw3orgZro"
      },
      "execution_count": null,
      "outputs": []
    },
    {
      "cell_type": "code",
      "source": [
        "numerical_attributes = ['Age', 'Number of siblings']\n",
        "\n",
        "BM_MV = response_df.Weight.isna()\n",
        "for att in numerical_attributes:\n",
        "    print('Diagnosis Analysis of Missing Values for {}:'.format(att))\n",
        "    Diagnose_MV_Numerical(response_df,att,BM_MV)\n",
        "    print('- - - - - - - - - - - - divider - - - - - - - - - - - ')\n",
        "\n",
        "print('se observa que hay relación con la edad pero no con el número de hermanos')\n",
        "\n",
        "categorical_attributes = ['Gender', 'Education']\n",
        "\n",
        "BM_MV = response_df.Weight.isna()\n",
        "for att in categorical_attributes:\n",
        "    print('Diagnosis Analysis of Missing Values for {}:'.format(att))\n",
        "    Diagnose_MV_Categorical(response_df,att,BM_MV)\n",
        "    print('- - - - - - - - - - - - divider - - - - - - - - - - - ')\n",
        "\n",
        "\n",
        "\n",
        "print('se observa que no hay mucha relación con la educación ni con el género')\n",
        "\n"
      ],
      "metadata": {
        "id": "Db8Lm1AnZjQT",
        "colab": {
          "base_uri": "https://localhost:8080/",
          "height": 1000
        },
        "outputId": "793be015-0f47-4e9b-bb1f-1aad61fd19aa"
      },
      "execution_count": null,
      "outputs": [
        {
          "output_type": "stream",
          "name": "stdout",
          "text": [
            "Diagnosis Analysis of Missing Values for Age:\n"
          ]
        },
        {
          "output_type": "display_data",
          "data": {
            "text/plain": [
              "<Figure size 640x480 with 1 Axes>"
            ],
            "image/png": "[encoded data removed]"
          },
          "metadata": {}
        },
        {
          "output_type": "display_data",
          "data": {
            "text/plain": [
              "<Figure size 1000x400 with 2 Axes>"
            ],
            "image/png": "[encoded data removed]"
          },
          "metadata": {}
        },
        {
          "output_type": "stream",
          "name": "stdout",
          "text": [
            "p-value of t-test: 0.7258243979822129\n",
            "- - - - - - - - - - - - divider - - - - - - - - - - - \n",
            "Diagnosis Analysis of Missing Values for Number of siblings:\n"
          ]
        },
        {
          "output_type": "display_data",
          "data": {
            "text/plain": [
              "<Figure size 640x480 with 1 Axes>"
            ],
            "image/png": "[encoded data removed]"
          },
          "metadata": {}
        },
        {
          "output_type": "display_data",
          "data": {
            "text/plain": [
              "<Figure size 1000x400 with 2 Axes>"
            ],
            "image/png": "[encoded data removed]"
          },
          "metadata": {}
        },
        {
          "output_type": "stream",
          "name": "stdout",
          "text": [
            "p-value of t-test: 0.8255092107556896\n",
            "- - - - - - - - - - - - divider - - - - - - - - - - - \n",
            "se observa que hay relación con la edad pero no con el número de hermanos\n",
            "Diagnosis Analysis of Missing Values for Gender:\n"
          ]
        },
        {
          "output_type": "display_data",
          "data": {
            "text/plain": [
              "<Figure size 1000x400 with 2 Axes>"
            ],
            "image/png": "[encoded data removed]"
          },
          "metadata": {}
        },
        {
          "output_type": "stream",
          "name": "stdout",
          "text": [
            "p-value of Chi_squared test: 0.5472167199163878\n",
            "- - - - - - - - - - - - divider - - - - - - - - - - - \n",
            "Diagnosis Analysis of Missing Values for Education:\n"
          ]
        },
        {
          "output_type": "display_data",
          "data": {
            "text/plain": [
              "<Figure size 1000x400 with 2 Axes>"
            ],
            "image/png": "[encoded data removed]"
          },
          "metadata": {}
        },
        {
          "output_type": "stream",
          "name": "stdout",
          "text": [
            "p-value of Chi_squared test: 0.8424822989541867\n",
            "- - - - - - - - - - - - divider - - - - - - - - - - - \n",
            "se observa que no hay mucha relación con la educación ni con el género\n"
          ]
        }
      ]
    },
    {
      "cell_type": "markdown",
      "source": [
        "6. Utiliza una medida de tendencia central para imputar los valores faltantes de `Weight`. ¿Cuál es recomendable y por qué?"
      ],
      "metadata": {
        "id": "Ez5n5y3ABif0"
      }
    },
    {
      "cell_type": "code",
      "source": [
        "response_df['Weight'].fillna(value=response_df['Weight'].mode()[0])\n",
        "response_df['Weight'].fillna(value=response_df['Weight'].mean())\n",
        "response_df['Weight'].fillna(value=response_df['Weight'].median())\n",
        "\n",
        "# se recommienda más la mediana dado el sesgo que tiene la distribución\n",
        "\n"
      ],
      "metadata": {
        "id": "foY7zWzqZqhU",
        "colab": {
          "base_uri": "https://localhost:8080/"
        },
        "outputId": "11615805-2eec-4401-cf5c-bd3109a24486"
      },
      "execution_count": null,
      "outputs": [
        {
          "output_type": "execute_result",
          "data": {
            "text/plain": [
              "0       48.0\n",
              "1       58.0\n",
              "2       67.0\n",
              "3       59.0\n",
              "4       59.0\n",
              "        ... \n",
              "1005    57.0\n",
              "1006    80.0\n",
              "1007    75.0\n",
              "1008    58.0\n",
              "1009    72.0\n",
              "Name: Weight, Length: 1010, dtype: float64"
            ]
          },
          "metadata": {},
          "execution_count": 105
        }
      ]
    },
    {
      "cell_type": "markdown",
      "source": [
        "7. ¿Hay valores atípicos de la variable `Weight`? Confírmalo con un gráfico de boxplot. ¿Cuántos son? Almacénalos en un dataframe independiente y elimínalos del conjunto original."
      ],
      "metadata": {
        "id": "lUN8erGWDT0E"
      }
    },
    {
      "cell_type": "code",
      "source": [
        "sns.boxplot(x=response_df['Weight'])\n",
        "Q1 = response_df['Weight'].quantile(0.25)\n",
        "Q3 = response_df['Weight'].quantile(0.75)\n",
        "IQR= Q3 -Q1\n",
        "limite_inferior = Q1 - 1.5 * IQR\n",
        "limite_superior = Q3 + 1.5 * IQR\n",
        "\n",
        "print(limite_inferior)\n",
        "print(limite_superior)\n",
        "\n",
        "outliers_low= (response_df['Weight'] < limite_inferior)\n",
        "outliers_up= (response_df['Weight'] > limite_superior)\n",
        "\n",
        "print(len(response_df) - (len(response_df[outliers_low]) + len(response_df[outliers_up])))\n",
        "\n",
        "print(response_df['Weight'][(outliers_low|outliers_up)])\n",
        "\n",
        "df= response_df['Weight'][~(outliers_low|outliers_up)]\n",
        "sns.boxplot(x = df)"
      ],
      "metadata": {
        "id": "OMNOu5ejZtSZ",
        "colab": {
          "base_uri": "https://localhost:8080/",
          "height": 692
        },
        "outputId": "2f37d2b3-ccbf-4a58-b815-6d8b1c47f2a8"
      },
      "execution_count": null,
      "outputs": [
        {
          "output_type": "stream",
          "name": "stdout",
          "text": [
            "25.0\n",
            "105.0\n",
            "1001\n",
            "292    120.0\n",
            "612    110.0\n",
            "715    111.0\n",
            "793    120.0\n",
            "796    113.0\n",
            "859    125.0\n",
            "885    165.0\n",
            "973    120.0\n",
            "992    150.0\n",
            "Name: Weight, dtype: float64\n"
          ]
        },
        {
          "output_type": "execute_result",
          "data": {
            "text/plain": [
              "<Axes: xlabel='Weight'>"
            ]
          },
          "metadata": {},
          "execution_count": 162
        },
        {
          "output_type": "display_data",
          "data": {
            "text/plain": [
              "<Figure size 640x480 with 1 Axes>"
            ],
            "image/png": "[encoded data removed]"
          },
          "metadata": {}
        }
      ]
    },
    {
      "cell_type": "markdown",
      "source": [
        "8. Repite el mismo proceso de valores atípicos con la variable `Height`."
      ],
      "metadata": {
        "id": "N6pEvCBzLtIU"
      }
    },
    {
      "cell_type": "code",
      "source": [
        "sns.boxplot(x=response_df['Height'])\n",
        "Q1 = response_df['Height'].quantile(0.25)\n",
        "Q3 = response_df['Height'].quantile(0.75)\n",
        "IQR= Q3 -Q1\n",
        "limite_inferior = Q1 - 1.5 * IQR\n",
        "limite_superior = Q3 + 1.5 * IQR\n",
        "\n",
        "print(limite_inferior)\n",
        "print(limite_superior)\n",
        "\n",
        "outliers_low= (response_df['Height'] < limite_inferior)\n",
        "outliers_up= (response_df['Height'] > limite_superior)\n",
        "\n",
        "print(len(response_df) - (len(response_df[outliers_low]) + len(response_df[outliers_up])))\n",
        "\n",
        "print(response_df['Height'][(outliers_low|outliers_up)])\n",
        "\n",
        "df_h= response_df['Height'][~(outliers_low|outliers_up)]\n",
        "sns.boxplot(x = df_h)"
      ],
      "metadata": {
        "id": "XjLj1QTjZvEh",
        "colab": {
          "base_uri": "https://localhost:8080/",
          "height": 640
        },
        "outputId": "125619dc-d89c-4412-c43b-f53a25016d88"
      },
      "execution_count": null,
      "outputs": [
        {
          "output_type": "stream",
          "name": "stdout",
          "text": [
            "147.5\n",
            "199.5\n",
            "1004\n",
            "97     200.0\n",
            "220    200.0\n",
            "547    203.0\n",
            "676     62.0\n",
            "799    203.0\n",
            "992    200.0\n",
            "Name: Height, dtype: float64\n"
          ]
        },
        {
          "output_type": "execute_result",
          "data": {
            "text/plain": [
              "<Axes: xlabel='Height'>"
            ]
          },
          "metadata": {},
          "execution_count": 163
        },
        {
          "output_type": "display_data",
          "data": {
            "text/plain": [
              "<Figure size 640x480 with 1 Axes>"
            ],
            "image/png": "[encoded data removed]"
          },
          "metadata": {}
        }
      ]
    },
    {
      "cell_type": "markdown",
      "source": [
        "9. ¿Hay encuestados que sean atípicos según su índice de masa corporal (`BMI`)? El `BMI` puede ser calculado usando la siguiente fórmula:\n",
        "\n",
        "`BMI = Weight / Height ^ 2`\n",
        "\n",
        "**NOTA**. El peso tiene que estar en kilogramos y la altura en metros, pero en el conjunto la altura se ha registrado en centímetros, por lo que deberás convertirla a metros."
      ],
      "metadata": {
        "id": "J-r83U_lEpsd"
      }
    },
    {
      "cell_type": "code",
      "source": [],
      "metadata": {
        "id": "UZ4HWUzzZw_S"
      },
      "execution_count": null,
      "outputs": []
    },
    {
      "cell_type": "markdown",
      "source": [
        "10. Utiliza boxplots para visualizar la distribución del `BMI` según cada una de las variables categóricas de texto. Comenta un hallazgo que llame tu atención."
      ],
      "metadata": {
        "id": "G_pt1FBWMOZG"
      }
    },
    {
      "cell_type": "code",
      "source": [],
      "metadata": {
        "id": "K13uMSzfZydK"
      },
      "execution_count": null,
      "outputs": []
    }
  ],
  "metadata": {
    "kernelspec": {
      "display_name": "Python 3",
      "language": "python",
      "name": "python3"
    },
    "language_info": {
      "codemirror_mode": {
        "name": "ipython",
        "version": 3
      },
      "file_extension": ".py",
      "mimetype": "text/x-python",
      "name": "python",
      "nbconvert_exporter": "python",
      "pygments_lexer": "ipython3",
      "version": "3.8.5"
    },
    "colab": {
      "provenance": [],
      "include_colab_link": true
    }
  },
  "nbformat": 4,
  "nbformat_minor": 0
}